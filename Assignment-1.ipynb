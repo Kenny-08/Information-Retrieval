{
  "nbformat": 4,
  "nbformat_minor": 0,
  "metadata": {
    "colab": {
      "name": "IR.ipynb",
      "provenance": []
    },
    "kernelspec": {
      "name": "python3",
      "display_name": "Python 3"
    },
    "language_info": {
      "name": "python"
    },
    "accelerator": "GPU"
  },
  "cells": [
    {
      "cell_type": "markdown",
      "source": [
        "# **Assignment 1: Zipf Law, Stemming, Lemmatization**"
      ],
      "metadata": {
        "id": "OvTXNd6jUgfy"
      }
    },
    {
      "cell_type": "markdown",
      "source": [
        "### **Task : 1** - Download any document collection from [20 Newsgroups dataset](http://qwone.com/~jason/20Newsgroups/)"
      ],
      "metadata": {
        "id": "TJJaXGXGVRc3"
      }
    },
    {
      "cell_type": "markdown",
      "source": [
        "I have created a randomizer that will fetch the data of a random category from the 20 categories of the **original 20 Newsgroups dataset**"
      ],
      "metadata": {
        "id": "gmmnNJk2VxWk"
      }
    },
    {
      "cell_type": "code",
      "source": [
        "import random\n",
        "from sklearn.datasets import fetch_20newsgroups\n"
      ],
      "metadata": {
        "id": "zhf8HMTin0qg"
      },
      "execution_count": 1,
      "outputs": []
    },
    {
      "cell_type": "code",
      "source": [
        "def list_all_categories():\n",
        "  newsgroups_data = fetch_20newsgroups(subset='all', remove=('headers', 'footers', 'quotes'))\n",
        "  categories = list(newsgroups_data.target_names)\n",
        "  print(\"List of Categories: \")\n",
        "  print(list(newsgroups_data.target_names))\n",
        "  print()\n",
        "  return categories"
      ],
      "metadata": {
        "id": "OlhtjCPgKmJI"
      },
      "execution_count": 2,
      "outputs": []
    },
    {
      "cell_type": "code",
      "source": [
        "def choose_a_category(categories):\n",
        "  category = random.choice(categories)\n",
        "  print(\"Selected category: \" + category)\n",
        "  return category"
      ],
      "metadata": {
        "id": "R7s6uOCMJchd"
      },
      "execution_count": 3,
      "outputs": []
    },
    {
      "cell_type": "code",
      "source": [
        "def fetching_a_collection():\n",
        "  categories = list_all_categories()\n",
        "  category = choose_a_category(categories)\n",
        "  selected_category = []\n",
        "  selected_category.append(category)\n",
        "  newsgroups_data = fetch_20newsgroups(subset='all', remove=('headers', 'footers', 'quotes'), categories=selected_category)\n",
        "  return newsgroups_data\n"
      ],
      "metadata": {
        "id": "c_S55lOqX8qv"
      },
      "execution_count": 4,
      "outputs": []
    },
    {
      "cell_type": "code",
      "source": [
        "fetched_data = fetching_a_collection()"
      ],
      "metadata": {
        "colab": {
          "base_uri": "https://localhost:8080/"
        },
        "id": "RIrQCD5jXvqF",
        "outputId": "14fe2a18-7e6e-4421-86c8-2542faf5999c"
      },
      "execution_count": 5,
      "outputs": [
        {
          "output_type": "stream",
          "name": "stdout",
          "text": [
            "List of Categories: \n",
            "['alt.atheism', 'comp.graphics', 'comp.os.ms-windows.misc', 'comp.sys.ibm.pc.hardware', 'comp.sys.mac.hardware', 'comp.windows.x', 'misc.forsale', 'rec.autos', 'rec.motorcycles', 'rec.sport.baseball', 'rec.sport.hockey', 'sci.crypt', 'sci.electronics', 'sci.med', 'sci.space', 'soc.religion.christian', 'talk.politics.guns', 'talk.politics.mideast', 'talk.politics.misc', 'talk.religion.misc']\n",
            "\n",
            "Selected category: talk.religion.misc\n"
          ]
        }
      ]
    },
    {
      "cell_type": "markdown",
      "source": [
        "\n",
        "\n",
        "---\n",
        "\n"
      ],
      "metadata": {
        "id": "nxzY_dZrwHnZ"
      }
    },
    {
      "cell_type": "markdown",
      "source": [
        "### **Task : 2** - Collect the word statistics and check whether there exists a Zipf's Law there or not."
      ],
      "metadata": {
        "id": "6Sj7zwwJaRMq"
      }
    },
    {
      "cell_type": "markdown",
      "source": [
        "**Zipf's law** states that the frequency of a given word is dependent on the inverse of it's rank, i.e. the word with the second highest rank will have the frequency value ½ of the first word, the word with the third highest rank will have the frequency value ⅓ of the first word, and so on...\n",
        "\n",
        "*   **Frequency** - Number of occurences of a word in the given document or corpus.\n",
        "*   **Rank** - Position occupied by a word for having the highest number of occurence in the given document or corpus. (Highest freq = Hignest rank)"
      ],
      "metadata": {
        "id": "lbqyA27O2byG"
      }
    },
    {
      "cell_type": "code",
      "source": [
        "from operator import itemgetter\n",
        "import nltk\n",
        "import re\n",
        "import nltk.corpus\n",
        "import pandas as pd\n",
        "from nltk.corpus import stopwords\n",
        "from matplotlib import pyplot as plt\n",
        "from nltk.tokenize import word_tokenize\n",
        "\n",
        "nltk.download('stopwords')\n",
        "nltk.download('punkt')\n"
      ],
      "metadata": {
        "id": "uFLhm1Oqn0u_",
        "colab": {
          "base_uri": "https://localhost:8080/"
        },
        "outputId": "e49eb7b6-4107-4f32-a99d-01b795ee74dd"
      },
      "execution_count": 6,
      "outputs": [
        {
          "output_type": "stream",
          "name": "stdout",
          "text": [
            "[nltk_data] Downloading package stopwords to /root/nltk_data...\n",
            "[nltk_data]   Package stopwords is already up-to-date!\n",
            "[nltk_data] Downloading package punkt to /root/nltk_data...\n",
            "[nltk_data]   Package punkt is already up-to-date!\n"
          ]
        },
        {
          "output_type": "execute_result",
          "data": {
            "text/plain": [
              "True"
            ]
          },
          "metadata": {},
          "execution_count": 6
        }
      ]
    },
    {
      "cell_type": "code",
      "source": [
        "df = pd.DataFrame()\n",
        "df['text'] = fetched_data.data"
      ],
      "metadata": {
        "id": "CfzZxKQ3ubw3"
      },
      "execution_count": 7,
      "outputs": []
    },
    {
      "cell_type": "code",
      "source": [
        "df['text']"
      ],
      "metadata": {
        "colab": {
          "base_uri": "https://localhost:8080/"
        },
        "id": "FjZwsIMNu7KA",
        "outputId": "9972625d-9b2b-4d6d-8002-3471f34f5f45"
      },
      "execution_count": 8,
      "outputs": [
        {
          "output_type": "execute_result",
          "data": {
            "text/plain": [
              "0      \\nZoroaster is far older than Daniel. If anyth...\n",
              "1      \\n\\nWell, the best thing to do is to read the ...\n",
              "2      930425 \\n\\n\\nRome was under attack by barbaria...\n",
              "3      \\n\\n\\tIf given a definite definition of \"God\",...\n",
              "4         Surely you are not equating David Koresh wi...\n",
              "                             ...                        \n",
              "623    \\n\\tPlease do! And if you don't want to post i...\n",
              "624    \\n\\n\\n\\n\\n\\nI would really appreciate if when ...\n",
              "625    I will instruct thee and teach thee\\n\\tin the ...\n",
              "626    On 21-Apr-93 in Re: ABORTION and private he..\\...\n",
              "627    ...\\n\\n\\tYou can tell, folks, when the man has...\n",
              "Name: text, Length: 628, dtype: object"
            ]
          },
          "metadata": {},
          "execution_count": 8
        }
      ]
    },
    {
      "cell_type": "code",
      "source": [
        "def textclean(text):\n",
        "    cleaner = re.sub(r\"[^a-zA-Z ]+\", ' ', text.lower())   # Lowercase and strip everything except words\n",
        "    cleaner = word_tokenize(cleaner)      # Tokenize\n",
        "    cleaner = [word.lower() for word in cleaner if word.isalpha()]\n",
        "    cleaner = [word for word in cleaner if len(word)>=2]\n",
        "    return cleaner"
      ],
      "metadata": {
        "id": "GZZB-GEAvdxN"
      },
      "execution_count": 9,
      "outputs": []
    },
    {
      "cell_type": "code",
      "source": [
        "stop_words = stopwords.words('english')\n",
        "\n",
        "def textclean_stopwords(text):\n",
        "    cleaner = re.sub(r\"[^a-zA-Z ]+\", ' ', text.lower())\n",
        "    cleaner = word_tokenize(cleaner)\n",
        "    cleaner = [word.lower() for word in cleaner if word.isalpha()]\n",
        "    cleaner = [word for word in cleaner if len(word)>=2]\n",
        "    cleaner = [word for word in cleaner if word not in stop_words]\n",
        "    return cleaner"
      ],
      "metadata": {
        "id": "g5sPQ8jxcl5c"
      },
      "execution_count": 10,
      "outputs": []
    },
    {
      "cell_type": "code",
      "source": [
        "df['clean_text'] = df.text.apply(lambda x: textclean(x))\n",
        "df['clean_text_stopwords'] = df.text.apply(lambda x: textclean_stopwords(x))"
      ],
      "metadata": {
        "id": "ZDpWvEimoDzp"
      },
      "execution_count": 11,
      "outputs": []
    },
    {
      "cell_type": "code",
      "source": [
        "list_of_words1 = []\n",
        "for arr in df['clean_text']:\n",
        "  list_of_words1 += arr"
      ],
      "metadata": {
        "id": "-14Djp_o0Dej"
      },
      "execution_count": 12,
      "outputs": []
    },
    {
      "cell_type": "code",
      "source": [
        "list_of_words2 = []\n",
        "for arr in df['clean_text_stopwords']:\n",
        "  list_of_words2 += arr"
      ],
      "metadata": {
        "id": "p0Gazdu9dyWl"
      },
      "execution_count": 13,
      "outputs": []
    },
    {
      "cell_type": "code",
      "source": [
        "len(list_of_words1)"
      ],
      "metadata": {
        "colab": {
          "base_uri": "https://localhost:8080/"
        },
        "id": "uFQGBbII0YMz",
        "outputId": "89ca0d37-283d-49a8-9fe2-14533b30e306"
      },
      "execution_count": 14,
      "outputs": [
        {
          "output_type": "execute_result",
          "data": {
            "text/plain": [
              "132899"
            ]
          },
          "metadata": {},
          "execution_count": 14
        }
      ]
    },
    {
      "cell_type": "code",
      "source": [
        "len(list_of_words2)"
      ],
      "metadata": {
        "colab": {
          "base_uri": "https://localhost:8080/"
        },
        "id": "KSzMVpfWd61j",
        "outputId": "3d6554d9-0c9b-4124-98d6-d387e641bead"
      },
      "execution_count": 15,
      "outputs": [
        {
          "output_type": "execute_result",
          "data": {
            "text/plain": [
              "67912"
            ]
          },
          "metadata": {},
          "execution_count": 15
        }
      ]
    },
    {
      "cell_type": "code",
      "source": [
        "def calculating_frequency(list_of_words):\n",
        "  for word in list_of_words :\n",
        "    count = frequency.get(word , 0)\n",
        "    frequency[word] = count + 1"
      ],
      "metadata": {
        "id": "3bFaYs_EeYEl"
      },
      "execution_count": 16,
      "outputs": []
    },
    {
      "cell_type": "code",
      "source": [
        "frequency = {}\n",
        "\n",
        "# We can also calculate for the data obtained after removing stopwords by altering the list of words\n",
        "calculating_frequency(list_of_words1)  \n",
        "\n",
        "rank = 1\n",
        "column_header = ['Rank', 'Frequency', 'Frequency * Rank']\n",
        "df_freq = pd.DataFrame( columns = column_header )\n",
        "collection = sorted(frequency.items(), key=itemgetter(1), reverse = True)\n"
      ],
      "metadata": {
        "id": "dDpv_L4u0eKk"
      },
      "execution_count": 17,
      "outputs": []
    },
    {
      "cell_type": "code",
      "source": [
        "# Table for frequency * rank\n",
        "\n",
        "for word , freq in collection:\n",
        "    df_freq.loc[word] = [rank, freq, rank*freq]\n",
        "    rank = rank + 1\n",
        "\n",
        "print (df_freq)\n"
      ],
      "metadata": {
        "colab": {
          "base_uri": "https://localhost:8080/"
        },
        "id": "KJQSpeIh1BMF",
        "outputId": "e37b28f0-777b-40ec-cbef-028ad779fdd6"
      },
      "execution_count": 18,
      "outputs": [
        {
          "output_type": "stream",
          "name": "stdout",
          "text": [
            "                Rank Frequency Frequency * Rank\n",
            "the                1      7899             7899\n",
            "of                 2      4213             8426\n",
            "to                 3      3857            11571\n",
            "and                4      3286            13144\n",
            "that               5      2862            14310\n",
            "...              ...       ...              ...\n",
            "factory        11529         1            11529\n",
            "unpredictably  11530         1            11530\n",
            "analyst        11531         1            11531\n",
            "cannnot        11532         1            11532\n",
            "pumped         11533         1            11533\n",
            "\n",
            "[11533 rows x 3 columns]\n"
          ]
        }
      ]
    },
    {
      "cell_type": "code",
      "source": [
        "print(df_freq[:50])"
      ],
      "metadata": {
        "colab": {
          "base_uri": "https://localhost:8080/"
        },
        "id": "KHrANNuGHm8F",
        "outputId": "71aadadc-85bd-474d-dcc5-10d5457f6f91"
      },
      "execution_count": 19,
      "outputs": [
        {
          "output_type": "stream",
          "name": "stdout",
          "text": [
            "       Rank Frequency Frequency * Rank\n",
            "the       1      7899             7899\n",
            "of        2      4213             8426\n",
            "to        3      3857            11571\n",
            "and       4      3286            13144\n",
            "that      5      2862            14310\n",
            "is        6      2611            15666\n",
            "in        7      2279            15953\n",
            "you       8      1742            13936\n",
            "it        9      1606            14454\n",
            "not      10      1353            13530\n",
            "are      11      1058            11638\n",
            "for      12      1045            12540\n",
            "this     13      1045            13585\n",
            "as       14      1021            14294\n",
            "be       15       953            14295\n",
            "have     16       939            15024\n",
            "with     17       832            14144\n",
            "he       18       778            14004\n",
            "they     19       742            14098\n",
            "was      20       738            14760\n",
            "on       21       726            15246\n",
            "or       22       696            15312\n",
            "but      23       693            15939\n",
            "by       24       659            15816\n",
            "god      25       635            15875\n",
            "what     26       603            15678\n",
            "from     27       599            16173\n",
            "all      28       583            16324\n",
            "if       29       569            16501\n",
            "do       30       541            16230\n",
            "we       31       537            16647\n",
            "your     32       531            16992\n",
            "who      33       528            17424\n",
            "his      34       520            17680\n",
            "my       35       513            17955\n",
            "one      36       502            18072\n",
            "can      37       489            18093\n",
            "will     38       485            18430\n",
            "there    39       470            18330\n",
            "an       40       461            18440\n",
            "me       41       448            18368\n",
            "so       42       442            18564\n",
            "jesus    43       408            17544\n",
            "would    44       406            17864\n",
            "people   45       404            18180\n",
            "about    46       401            18446\n",
            "at       47       396            18612\n",
            "no       48       375            18000\n",
            "their    49       369            18081\n",
            "which    50       359            17950\n"
          ]
        }
      ]
    },
    {
      "cell_type": "markdown",
      "source": [
        "We can see that the are values from somewhere in the middle, \"Frequency * Rank\"  for most of the values are nearly similar. So the laws do hold true for words."
      ],
      "metadata": {
        "id": "oUXdNMSPC0Dd"
      }
    },
    {
      "cell_type": "code",
      "source": [
        "# Visualization\n",
        "plt.figure(figsize=(10,10)) \n",
        "plt.ylabel(\"Frequency\")\n",
        "plt.xlabel(\"Words\")\n",
        "plt.xticks(rotation=90)   \n",
        "\n",
        "for word , freq in collection[:30]:\n",
        "    plt.bar(word, freq)    \n",
        "plt.show()\n"
      ],
      "metadata": {
        "colab": {
          "base_uri": "https://localhost:8080/",
          "height": 620
        },
        "id": "dwgwa-zg1Ym9",
        "outputId": "9b193f97-7362-4313-e329-738c167dd8b2"
      },
      "execution_count": 20,
      "outputs": [
        {
          "output_type": "display_data",
          "data": {
            "image/png": "[encoded data removed]",
            "text/plain": [
              "<Figure size 720x720 with 1 Axes>"
            ]
          },
          "metadata": {
            "needs_background": "light"
          }
        }
      ]
    },
    {
      "cell_type": "markdown",
      "source": [
        "\n",
        "\n",
        "---\n",
        "\n"
      ],
      "metadata": {
        "id": "QweQdtSVv_jD"
      }
    },
    {
      "cell_type": "markdown",
      "source": [
        "### **Task : 3** - Download / implement Porter's stemmer and any other stemmer / lemmatizer of your choice and compare the number of unique words.\n"
      ],
      "metadata": {
        "id": "YjZzaEpMCgy9"
      }
    },
    {
      "cell_type": "markdown",
      "source": [
        "**Stemming** is the process of producing morphological variants of a root/base word. Stems are created by removing the suffixes or prefixes used with a word.\n",
        "\n",
        "**Porter Stemmer** uses Suffix Stripping to produce stems.\n",
        "Porter Stemmer algorithm does not follow linguistics rather a set of 05 rules for different cases that are applied in phases (step by step) to generate stems"
      ],
      "metadata": {
        "id": "ECFXjbWOGVG8"
      }
    },
    {
      "cell_type": "code",
      "source": [
        "from nltk.stem import PorterStemmer\n",
        "  \n",
        "ps = PorterStemmer()\n",
        "\n",
        "stemmed_words = []\n",
        "\n",
        "for word in list_of_words1:\n",
        "  stemmed_words.append(ps.stem(word))\n",
        "\n",
        "unique_stem_words = len(set(stemmed_words))"
      ],
      "metadata": {
        "id": "nGn4Nh5BCZ4M"
      },
      "execution_count": 21,
      "outputs": []
    },
    {
      "cell_type": "code",
      "source": [
        "unique_stem_words"
      ],
      "metadata": {
        "colab": {
          "base_uri": "https://localhost:8080/"
        },
        "id": "PvJSfhYOHC7k",
        "outputId": "4e1671a5-4e80-465f-938c-4f17789c7730"
      },
      "execution_count": 22,
      "outputs": [
        {
          "output_type": "execute_result",
          "data": {
            "text/plain": [
              "8015"
            ]
          },
          "metadata": {},
          "execution_count": 22
        }
      ]
    },
    {
      "cell_type": "markdown",
      "source": [
        "**Lemmatization** is the process of grouping together the different inflected forms of a word so they can be analyzed as a single item. Lemmatization is similar to stemming but it brings context to the words. \n"
      ],
      "metadata": {
        "id": "RlgVB97HGHMR"
      }
    },
    {
      "cell_type": "code",
      "source": [
        "from nltk.stem import WordNetLemmatizer\n",
        "nltk.download('wordnet')\n",
        "\n",
        "lemmatizer = WordNetLemmatizer()\n",
        "\n",
        "lemmatized_words = []\n",
        "\n",
        "for word in list_of_words1:\n",
        "  lemmatized_words.append(lemmatizer.lemmatize(word))\n",
        "\n",
        "unique_lemma_words = len(set(lemmatized_words))\n"
      ],
      "metadata": {
        "colab": {
          "base_uri": "https://localhost:8080/"
        },
        "id": "W8DjvxRQFQBQ",
        "outputId": "6fd514b6-a446-4d2f-f422-ccd60ef0a68d"
      },
      "execution_count": 23,
      "outputs": [
        {
          "output_type": "stream",
          "name": "stdout",
          "text": [
            "[nltk_data] Downloading package wordnet to /root/nltk_data...\n",
            "[nltk_data]   Package wordnet is already up-to-date!\n"
          ]
        }
      ]
    },
    {
      "cell_type": "code",
      "source": [
        "unique_lemma_words"
      ],
      "metadata": {
        "colab": {
          "base_uri": "https://localhost:8080/"
        },
        "id": "t1Ymi4lnHGNC",
        "outputId": "634b2ec2-eaae-4e19-de06-bfe36468ab8a"
      },
      "execution_count": 24,
      "outputs": [
        {
          "output_type": "execute_result",
          "data": {
            "text/plain": [
              "10357"
            ]
          },
          "metadata": {},
          "execution_count": 24
        }
      ]
    },
    {
      "cell_type": "markdown",
      "source": [
        "### **Comparision**\n",
        "\n",
        "*   Number of unique words after lemmatization is more than the one's obtained after stemming with Porter's stemmer.\n",
        "*  Stemming just removes or stems the last few characters of a word, often leading to incorrect meanings and spelling. Lemmatization considers the context and converts the word to its meaningful base form \n",
        "*   Lemmatization is preferred over Stemming because lemmatization does morphological analysis of the words.\n",
        "\n",
        "\n"
      ],
      "metadata": {
        "id": "VCSPz5AduXJi"
      }
    }
  ]
}